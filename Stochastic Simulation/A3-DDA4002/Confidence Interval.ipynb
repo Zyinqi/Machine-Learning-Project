{
 "cells": [
  {
   "cell_type": "markdown",
   "metadata": {},
   "source": [
    "# Confidence Interval Construction"
   ]
  },
  {
   "cell_type": "markdown",
   "metadata": {},
   "source": [
    "## Using True Value of $\\sigma^2$"
   ]
  },
  {
   "cell_type": "code",
   "execution_count": null,
   "metadata": {},
   "outputs": [
    {
     "name": "stdout",
     "output_type": "stream",
     "text": [
      "Empirical coverage probability (Method 1) = 0.956\n"
     ]
    }
   ],
   "source": [
    "import numpy as np\n",
    "\n",
    "np.random.seed(130828)   # for reproducibility (optional)\n",
    "a = 0.5\n",
    "n = 500\n",
    "num_sims = 1000\n",
    "z_alpha = 1.96  # 97.5th percentile of standard normal for a 95% CI\n",
    "\n",
    "# True asymptotic variance for sample mean of AR(1)\n",
    "sigma_sq = (1/(1 - a**2)) * ((1 + a) / (1 - a))  \n",
    "\n",
    "coverage_count = 0\n",
    "\n",
    "for _ in range(num_sims):\n",
    "    # Generate Z_1,...,Z_n\n",
    "    Z = np.zeros(n)\n",
    "    Z[0] = np.random.normal(loc=0, scale=np.sqrt(1/(1 - a**2)))\n",
    "    for t in range(1, n):\n",
    "        eps = np.random.normal(loc=0, scale=1.0)\n",
    "        Z[t] = a * Z[t - 1] + eps\n",
    "    \n",
    "    # Compute the sample mean of Z\n",
    "    Z_bar = np.mean(Z)\n",
    "    \n",
    "    # Construct the 95% CI using known theoretical (asymptotic) variance\n",
    "    se = np.sqrt(sigma_sq / n) #The standard error for Z_bar is sqrt(sigma_sq / n)\n",
    "    lower = Z_bar - z_alpha * se\n",
    "    upper = Z_bar + z_alpha * se\n",
    "    \n",
    "    # Check coverage of the true mean (which is 0)\n",
    "    if lower <= 0 <= upper:\n",
    "        coverage_count += 1\n",
    "\n",
    "coverage_proportion = coverage_count / num_sims\n",
    "\n",
    "print(f\"Empirical coverage probability (Method 1) = {coverage_proportion:.3f}\")\n"
   ]
  },
  {
   "cell_type": "markdown",
   "metadata": {},
   "source": [
    "## Using Sample Variance"
   ]
  },
  {
   "cell_type": "code",
   "execution_count": null,
   "metadata": {},
   "outputs": [
    {
     "name": "stdout",
     "output_type": "stream",
     "text": [
      "Empirical coverage probability (Method 2, naive sample variance) = 0.738\n"
     ]
    }
   ],
   "source": [
    "np.random.seed(130828)\n",
    "a = 0.5\n",
    "n = 500\n",
    "num_sims = 1000\n",
    "z_alpha = 1.96  # 97.5th percentile of the standard normal\n",
    "\n",
    "coverage_count = 0\n",
    "\n",
    "for _ in range(num_sims):\n",
    "    # Generate Z_1,...,Z_n\n",
    "    Z = np.zeros(n)\n",
    "    Z[0] = np.random.normal(loc=0, scale=np.sqrt(1/(1 - a**2)))\n",
    "    for t in range(1, n):\n",
    "        eps = np.random.normal(loc=0, scale=1.0)\n",
    "        Z[t] = a * Z[t - 1] + eps\n",
    "\n",
    "    # Sample mean\n",
    "    Z_bar = np.mean(Z)\n",
    "\n",
    "    # Naive sample variance (ignoring correlation)\n",
    "    s2 = np.var(Z, ddof=1)  # ddof=1 for unbiased sample variance\n",
    "\n",
    "    # Construct the naive 95% CI\n",
    "    se_naive = np.sqrt(s2 / n)  \n",
    "    lower = Z_bar - z_alpha * se_naive\n",
    "    upper = Z_bar + z_alpha * se_naive\n",
    "\n",
    "    # 5. Check if the true mean (0) is within this CI\n",
    "    if lower <= 0 <= upper:\n",
    "        coverage_count += 1\n",
    "\n",
    "coverage_proportion = coverage_count / num_sims\n",
    "print(f\"Empirical coverage probability (Method 2, naive sample variance) = {coverage_proportion:.3f}\")\n"
   ]
  },
  {
   "cell_type": "markdown",
   "metadata": {},
   "source": [
    "## Using Sectioning Method"
   ]
  },
  {
   "cell_type": "code",
   "execution_count": null,
   "metadata": {},
   "outputs": [
    {
     "name": "stdout",
     "output_type": "stream",
     "text": [
      "Empirical coverage probability (Method 3, sectioning) = 0.918\n"
     ]
    }
   ],
   "source": [
    "np.random.seed(130828)\n",
    "a = 0.5\n",
    "n = 500\n",
    "num_sims = 1000\n",
    "z_alpha = 1.96  # for ~95% CI\n",
    "\n",
    "# Choose how to section the data\n",
    "L = 10           # number of batches\n",
    "B = n // L       # length of each batch (should be 50 if n=500 and L=10)\n",
    "\n",
    "coverage_count = 0\n",
    "\n",
    "for _ in range(num_sims):\n",
    "    # Generate AR(1) data\n",
    "    Z = np.zeros(n)\n",
    "    Z[0] = np.random.normal(loc=0, scale=np.sqrt(1/(1 - a**2)))\n",
    "    for t in range(1, n):\n",
    "        eps = np.random.normal(loc=0, scale=1.0)\n",
    "        Z[t] = a * Z[t - 1] + eps\n",
    "\n",
    "    # Partition Z into L batches of length B, compute each batch mean\n",
    "    \n",
    "    M = []                  # M_i = mean of batch i\n",
    "    for i in range(L):\n",
    "        start_idx = i * B\n",
    "        end_idx = (i + 1) * B\n",
    "        M_i = np.mean(Z[start_idx:end_idx])\n",
    "        M.append(M_i)\n",
    "    M = np.array(M)\n",
    "\n",
    "    # Overall sample mean: same as average of M_i\n",
    "    Z_bar = np.mean(Z)\n",
    "    \n",
    "    # Batch-means formula: \n",
    "    #   var(Z_bar) = sample_var_of_M / L,\n",
    "    #   sample_var_of_M = sum((M_i - Z_bar)^2) / (L - 1)\n",
    "\n",
    "    M_var = np.sum((M - Z_bar)**2) / (L - 1)\n",
    "    var_Z_bar = M_var / L  # batch-means estimate of var(Z_bar)\n",
    "    se_sectioning = np.sqrt(var_Z_bar)\n",
    "\n",
    "    # Construct the 95% CI\n",
    "    lower = Z_bar - z_alpha * se_sectioning\n",
    "    upper = Z_bar + z_alpha * se_sectioning\n",
    "\n",
    "    # Check coverage\n",
    "    if lower <= 0 <= upper:\n",
    "        coverage_count += 1\n",
    "\n",
    "coverage_proportion = coverage_count / num_sims\n",
    "print(f\"Empirical coverage probability (Method 3, sectioning) = {coverage_proportion:.3f}\")\n"
   ]
  }
 ],
 "metadata": {
  "kernelspec": {
   "display_name": "base",
   "language": "python",
   "name": "python3"
  },
  "language_info": {
   "codemirror_mode": {
    "name": "ipython",
    "version": 3
   },
   "file_extension": ".py",
   "mimetype": "text/x-python",
   "name": "python",
   "nbconvert_exporter": "python",
   "pygments_lexer": "ipython3",
   "version": "3.12.2"
  }
 },
 "nbformat": 4,
 "nbformat_minor": 2
}
