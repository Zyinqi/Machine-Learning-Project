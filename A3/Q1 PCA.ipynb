{
 "cells": [
  {
   "cell_type": "markdown",
   "metadata": {},
   "source": [
    "## Q2.1 PCA Coding "
   ]
  },
  {
   "cell_type": "markdown",
   "metadata": {},
   "source": [
    "### Q2.1.1 Splitting"
   ]
  },
  {
   "cell_type": "code",
   "execution_count": 1,
   "metadata": {},
   "outputs": [],
   "source": [
    "import pandas as pd\n",
    "import numpy as np"
   ]
  },
  {
   "cell_type": "code",
   "execution_count": 2,
   "metadata": {},
   "outputs": [],
   "source": [
    "dataset = pd.read_excel('Classification iris.xlsx')\n",
    "\n",
    "class_names = dataset['class'].unique().tolist()\n",
    "X = dataset.to_numpy()[:, 1:5]\n",
    "y = dataset.to_numpy()[:, -1]"
   ]
  },
  {
   "cell_type": "code",
   "execution_count": 3,
   "metadata": {},
   "outputs": [],
   "source": [
    "X_train, y_train = [], []\n",
    "X_test, y_test = [], []\n",
    "instance_ids_train, instance_ids_test = [], []\n",
    "\n",
    "for i, name in enumerate(class_names):\n",
    "    mask = (y == name)\n",
    "    n_train = int(0.7 * mask.sum())\n",
    "    \n",
    "    X_train.append(X[mask][:n_train])\n",
    "    y_train.append(y[mask][:n_train])\n",
    "\n",
    "    X_test.append(X[mask][n_train:])\n",
    "    y_test.append(y[mask][n_train:])\n",
    "\n",
    "    instance_ids_train.extend((np.where(mask)[0][:n_train] + 1).tolist())\n",
    "    instance_ids_test.extend((np.where(mask)[0][n_train:] + 1).tolist())\n",
    "\n",
    "X_train = np.concatenate(X_train, axis=0)\n",
    "y_train = np.concatenate(y_train, axis=0)\n",
    "X_test = np.concatenate(X_test, axis=0)\n",
    "y_test = np.concatenate(y_test, axis=0)"
   ]
  },
  {
   "cell_type": "code",
   "execution_count": 4,
   "metadata": {},
   "outputs": [
    {
     "name": "stdout",
     "output_type": "stream",
     "text": [
      "(105, 4)\n",
      "(105,)\n",
      "(45, 4)\n",
      "(45,)\n"
     ]
    }
   ],
   "source": [
    "print(X_train.shape)\n",
    "print(y_train.shape)\n",
    "print(X_test.shape)\n",
    "print(y_test.shape)"
   ]
  },
  {
   "cell_type": "code",
   "execution_count": 5,
   "metadata": {},
   "outputs": [
    {
     "name": "stdout",
     "output_type": "stream",
     "text": [
      "object\n",
      "object\n",
      "object\n",
      "object\n"
     ]
    }
   ],
   "source": [
    "print(X_train.dtype)\n",
    "print(y_train.dtype)\n",
    "print(X_test.dtype)\n",
    "print(y_test.dtype)"
   ]
  },
  {
   "cell_type": "markdown",
   "metadata": {},
   "source": [
    "As we can see, X_train & X_test is in 'object' datatype, which is not suitable for matrix calculation. We need to first convert it into float type."
   ]
  },
  {
   "cell_type": "code",
   "execution_count": 6,
   "metadata": {},
   "outputs": [
    {
     "name": "stdout",
     "output_type": "stream",
     "text": [
      "[[5.1 3.5 1.4 0.2]\n",
      " [4.9 3.0 1.4 0.2]\n",
      " [4.7 3.2 1.3 0.2]\n",
      " [4.6 3.1 1.5 0.2]\n",
      " [5.0 3.6 1.4 0.2]]\n",
      "-------------\n",
      "[[5.0 3.2 1.2 0.2]\n",
      " [5.5 3.5 1.3 0.2]\n",
      " [4.9 3.1 1.5 0.1]\n",
      " [4.4 3.0 1.3 0.2]\n",
      " [5.1 3.4 1.5 0.2]]\n",
      "-------------\n",
      "['Iris-setosa' 'Iris-setosa' 'Iris-setosa' 'Iris-setosa' 'Iris-setosa']\n",
      "-------------\n",
      "['Iris-setosa' 'Iris-setosa' 'Iris-setosa' 'Iris-setosa' 'Iris-setosa']\n"
     ]
    }
   ],
   "source": [
    "print(X_train[0:5])\n",
    "print('-------------')\n",
    "print(X_test[0:5])\n",
    "print('-------------')\n",
    "print(y_train[0:5])\n",
    "print('-------------')\n",
    "print(y_test[0:5])"
   ]
  },
  {
   "cell_type": "code",
   "execution_count": 7,
   "metadata": {},
   "outputs": [],
   "source": [
    "X_train = X_train.astype(np.float64)\n",
    "X_test = X_test.astype(np.float64)"
   ]
  },
  {
   "cell_type": "code",
   "execution_count": 8,
   "metadata": {},
   "outputs": [
    {
     "name": "stdout",
     "output_type": "stream",
     "text": [
      "[[5.1 3.5 1.4 0.2]\n",
      " [4.9 3.  1.4 0.2]\n",
      " [4.7 3.2 1.3 0.2]\n",
      " [4.6 3.1 1.5 0.2]\n",
      " [5.  3.6 1.4 0.2]]\n",
      "-------------\n",
      "[[5.  3.2 1.2 0.2]\n",
      " [5.5 3.5 1.3 0.2]\n",
      " [4.9 3.1 1.5 0.1]\n",
      " [4.4 3.  1.3 0.2]\n",
      " [5.1 3.4 1.5 0.2]]\n"
     ]
    }
   ],
   "source": [
    "print(X_train[0:5])\n",
    "print('-------------')\n",
    "print(X_test[0:5])"
   ]
  },
  {
   "cell_type": "code",
   "execution_count": 9,
   "metadata": {},
   "outputs": [
    {
     "name": "stdout",
     "output_type": "stream",
     "text": [
      "float64\n",
      "object\n",
      "float64\n",
      "object\n"
     ]
    }
   ],
   "source": [
    "print(X_train.dtype)\n",
    "print(y_train.dtype)\n",
    "print(X_test.dtype)\n",
    "print(y_test.dtype)"
   ]
  },
  {
   "cell_type": "code",
   "execution_count": 10,
   "metadata": {},
   "outputs": [
    {
     "name": "stdout",
     "output_type": "stream",
     "text": [
      "Q2.2.1 Split training set and test set:\n",
      "Training set: [1, 2, 3, 4, 5, 6, 7, 8, 9, 10, 11, 12, 13, 14, 15, 16, 17, 18, 19, 20, 21, 22, 23, 24, 25, 26, 27, 28, 29, 30, 31, 32, 33, 34, 35, 51, 52, 53, 54, 55, 56, 57, 58, 59, 60, 61, 62, 63, 64, 65, 66, 67, 68, 69, 70, 71, 72, 73, 74, 75, 76, 77, 78, 79, 80, 81, 82, 83, 84, 85, 101, 102, 103, 104, 105, 106, 107, 108, 109, 110, 111, 112, 113, 114, 115, 116, 117, 118, 119, 120, 121, 122, 123, 124, 125, 126, 127, 128, 129, 130, 131, 132, 133, 134, 135]\n",
      "\n",
      "Test set: [36, 37, 38, 39, 40, 41, 42, 43, 44, 45, 46, 47, 48, 49, 50, 86, 87, 88, 89, 90, 91, 92, 93, 94, 95, 96, 97, 98, 99, 100, 136, 137, 138, 139, 140, 141, 142, 143, 144, 145, 146, 147, 148, 149, 150]\n"
     ]
    }
   ],
   "source": [
    "answer = f\"\"\"\n",
    "Q2.2.1 Split training set and test set:\n",
    "Training set: {instance_ids_train}\n",
    "\n",
    "Test set: {instance_ids_test}\n",
    "\"\"\".strip()\n",
    "\n",
    "print(answer)"
   ]
  },
  {
   "cell_type": "markdown",
   "metadata": {},
   "source": [
    "### Q2.1.2 SVD decomposition"
   ]
  },
  {
   "cell_type": "code",
   "execution_count": 11,
   "metadata": {},
   "outputs": [],
   "source": [
    "# Step 1: Calculate the mean vector and empirical covariance matrix\n",
    "mu = np.mean(X_train, axis=0) # compute for each column(feature)\n",
    "X_centered = X_train - mu\n",
    "cov_matrix = np.dot(X_centered.T, X_centered) / X_centered.shape[0] # normalized by N \n",
    "# cov_matrix should be a 4*4 matrix since it has 4 features\n",
    "\n"
   ]
  },
  {
   "cell_type": "code",
   "execution_count": 12,
   "metadata": {},
   "outputs": [
    {
     "name": "stdout",
     "output_type": "stream",
     "text": [
      "Q2.1.2 SVD decomposition:\n",
      "Mean vector: [5.89047619 3.05809524 3.80571429 1.18666667]\n",
      "\n",
      "Covariance matrix:\n",
      "[[ 0.71019501 -0.05001814  1.30319728  0.50244444]\n",
      " [-0.05001814  0.20719637 -0.3829034  -0.14170159]\n",
      " [ 1.30319728 -0.3829034   3.19901497  1.28779048]\n",
      " [ 0.50244444 -0.14170159  1.28779048  0.55791746]]\n",
      "\n",
      "Eigenvalues (vector): [4.30938932 0.2677887  0.07822324 0.01892255]\n",
      "\n",
      "Eigenvectors (matrix):\n",
      "[[ 0.3612084  -0.67668874 -0.5437191   0.34057361]\n",
      " [-0.09667266 -0.71059308  0.61616041 -0.32566581]\n",
      " [ 0.86000139  0.16246182  0.06924822 -0.47875719]\n",
      " [ 0.34724702  0.10371103  0.56561522  0.74077186]]\n",
      "\n"
     ]
    }
   ],
   "source": [
    "# Step 2: Calculate eigenvalues and eigenvectors \n",
    "eigenvalues, eigenvectors = np.linalg.eig(cov_matrix)\n",
    "\n",
    "# Step 3: Rank eigenvalues and eigenvectors in descending order, then reorder the vectors accordingly\n",
    "sorted_indices = np.argsort(eigenvalues)[::-1] # indices sorted in descending orders \n",
    "eigenvalues_sorted = eigenvalues[sorted_indices]\n",
    "eigenvectors_sorted = eigenvectors[:, sorted_indices]\n",
    "\n",
    "print(\"Q2.1.2 SVD decomposition:\")\n",
    "\n",
    "# Report the results in the required format\n",
    "print(f\"Mean vector: {mu}\\n\")\n",
    "print(f\"Covariance matrix:\\n{cov_matrix}\\n\")\n",
    "print(f\"Eigenvalues (vector): {eigenvalues_sorted}\\n\")\n",
    "print(f\"Eigenvectors (matrix):\\n{eigenvectors_sorted}\\n\")"
   ]
  },
  {
   "cell_type": "markdown",
   "metadata": {},
   "source": [
    "### Q2.1.3 Project to 1 dimension"
   ]
  },
  {
   "cell_type": "markdown",
   "metadata": {},
   "source": [
    "The representation of \\( x \\), i.e., \\( z \\), should be in the shape of $$\\mathbb{R}^{N \\times K};$$  \n",
    "The reconstruction of \\( x \\), i.e., \\( \\tilde{x} \\), should be in the shape of $$\\mathbb{R}^{N \\times D}.$$\n",
    "\n"
   ]
  },
  {
   "cell_type": "code",
   "execution_count": null,
   "metadata": {},
   "outputs": [
    {
     "name": "stdout",
     "output_type": "stream",
     "text": [
      "\n",
      "Q2.1.3 Project onto 1-dimensional subspace and reconstruct:\n",
      "\n",
      "Projection matrix W: \n",
      "[[ 0.3612084 ]\n",
      " [-0.09667266]\n",
      " [ 0.86000139]\n",
      " [ 0.34724702]]\n",
      "\n",
      "Shape of X train mapped: (105, 1), Shape of X train reconstructed: (105, 4)\n",
      "Variance train: 4.309389319247093\n",
      "Reconstruction loss train: 0.36493449027671576\n",
      "\n",
      "Shape of X test mapped: (45, 1), Shape of X test reconstructed: (45, 4)\n",
      "Variance test: 3.907084095695329\n",
      "Reconstruction loss test: 0.2997891222678479\n",
      "\n"
     ]
    }
   ],
   "source": [
    "# Step 1: Derive the projection matrix W (using the eigenvector corresponding to the largest K-th eigenvalue)\n",
    "#W = eigenvectors_sorted[:, 0]  # Shape: (4,1)\n",
    "K = 1\n",
    "W = eigenvectors_sorted[:,:K]\n",
    "U = W  # For reporting purposes\n",
    "\n",
    "# Step 2: Center the training and test data using the mean vector mu\n",
    "# The centering of X_test should also use mu to guarantee consistency in transformation\n",
    "X_train_centered = X_train - mu  # Shape: (105, 4)\n",
    "X_test_centered = X_test - mu    # Shape: (45, 4) \n",
    "\n",
    "# Step 3: Project the centered data onto the 1-dimensional subspace\n",
    "X_train_pca_1 = X_train_centered @ W  # Shape: (105, 1)\n",
    "X_test_pca_1 = X_test_centered @ W    # Shape: (45, 1)\n",
    "\n",
    "# Step 4: Reconstruct the data from the projected subspace\n",
    "X_train_reconstructed_1 = (X_train_pca_1 @ W.T) + mu  # Shape: (105, 4)\n",
    "X_test_reconstructed_1 = (X_test_pca_1 @ W.T) + mu    # Shape: (45, 4)\n",
    "\n",
    "# Step 5: Center the reconstructed data\n",
    "mu_train_1 = np.mean(X_train_reconstructed_1, axis=0)\n",
    "mu_test_1 = np.mean(X_test_reconstructed_1,axis=0)\n",
    "\n",
    "# Step 6: Calculate the variance of the original data\n",
    "variance_train_1 = np.mean(np.sum((X_train_reconstructed_1 - mu_train_1) ** 2, axis=1))\n",
    "variance_test_1 = np.mean(np.sum((X_test_reconstructed_1 - mu_test_1) ** 2, axis=1))\n",
    "\n",
    "# Step 7: Calculate the reconstruction error\n",
    "reconstruction_loss_train_1 = np.mean(np.sum((X_train - X_train_reconstructed_1) ** 2, axis=1))\n",
    "reconstruction_loss_test_1 = np.mean(np.sum((X_test - X_test_reconstructed_1) ** 2, axis=1))\n",
    "\n",
    "# Step 8: Report the results\n",
    "report = f\"\"\"\n",
    "Q2.1.3 Project onto 1-dimensional subspace and reconstruct:\n",
    "\n",
    "Projection matrix W: \n",
    "{U}\n",
    "\n",
    "Shape of X train mapped: {X_train_pca_1.shape}, Shape of X train reconstructed: {X_train_reconstructed_1.shape}\n",
    "Variance train: {variance_train_1}\n",
    "Reconstruction loss train: {reconstruction_loss_train_1}\n",
    "\n",
    "Shape of X test mapped: {X_test_pca_1.shape}, Shape of X test reconstructed: {X_test_reconstructed_1.shape}\n",
    "Variance test: {variance_test_1}\n",
    "Reconstruction loss test: {reconstruction_loss_test_1}\n",
    "\"\"\"\n",
    "\n",
    "print(report)\n"
   ]
  },
  {
   "cell_type": "markdown",
   "metadata": {},
   "source": [
    "### Q2.1.4 Project to 2 dimension"
   ]
  },
  {
   "cell_type": "code",
   "execution_count": 27,
   "metadata": {},
   "outputs": [
    {
     "name": "stdout",
     "output_type": "stream",
     "text": [
      "\n",
      "Q2.1.4 Project onto 2-dimensional subspace and reconstruct:\n",
      "\n",
      "Projection matrix W: \n",
      "[[ 0.3612084  -0.67668874]\n",
      " [-0.09667266 -0.71059308]\n",
      " [ 0.86000139  0.16246182]\n",
      " [ 0.34724702  0.10371103]]\n",
      "\n",
      "Shape of X train mapped: (105, 2), Shape of X train reconstruct: (105, 4)\n",
      "Variance train: 4.577178016423884\n",
      "Reconstruction loss train: 0.09714579309992513\n",
      "\n",
      "Shape of X test mapped: (45, 2), Shape of X test reconstruct: (45, 4)\n",
      "Variance test: 4.078378031615012\n",
      "Reconstruction loss test: 0.11952572036446978\n",
      "\n"
     ]
    }
   ],
   "source": [
    "# Step 1: Derive the projection matrix W (using the eigenvectors corresponding to the two largest eigenvalues)\n",
    "K = 2\n",
    "W = eigenvectors_sorted[:, :K]  # Shape: (4, 2)\n",
    "U = W  # For reporting purposes\n",
    "\n",
    "\n",
    "# Step 2: Project the centered data onto the 2-dimensional subspace\n",
    "X_train_pca_2 = X_train_centered @ W  # Shape: (105, 2)\n",
    "X_test_pca_2 = X_test_centered @ W    # Shape: (45, 2)\n",
    "\n",
    "# Step 3: Reconstruct the data from the projected subspace\n",
    "X_train_reconstructed_2 = (X_train_pca_2 @ W.T) + mu  # Shape: (105, 4)\n",
    "X_test_reconstructed_2 = (X_test_pca_2 @ W.T) + mu    # Shape: (45, 4)\n",
    "\n",
    "# Step 4: Center the reconstructed data\n",
    "mu_train_2 = np.mean(X_train_reconstructed_2, axis=0)\n",
    "mu_test_2 = np.mean(X_test_reconstructed_2,axis=0)\n",
    "\n",
    "# Step 5: Calculate the variance of the original data\n",
    "variance_train_2 = np.mean(np.sum((X_train_reconstructed_2 - mu_train_2) ** 2, axis=1))\n",
    "variance_test_2 = np.mean(np.sum((X_test_reconstructed_2 - mu_test_2) ** 2, axis=1))\n",
    "\n",
    "# Step 6: Calculate the reconstruction error\n",
    "reconstruction_loss_train_2 = np.mean(np.sum((X_train - X_train_reconstructed_2) ** 2, axis=1))\n",
    "reconstruction_loss_test_2 = np.mean(np.sum((X_test - X_test_reconstructed_2) ** 2, axis=1))\n",
    "\n",
    "# Step 7: Report the results\n",
    "report = f\"\"\"\n",
    "Q2.1.4 Project onto 2-dimensional subspace and reconstruct:\n",
    "\n",
    "Projection matrix W: \n",
    "{U}\n",
    "\n",
    "Shape of X train mapped: {X_train_pca_2.shape}, Shape of X train reconstruct: {X_train_reconstructed_2.shape}\n",
    "Variance train: {variance_train_2}\n",
    "Reconstruction loss train: {reconstruction_loss_train_2}\n",
    "\n",
    "Shape of X test mapped: {X_test_pca_2.shape}, Shape of X test reconstruct: {X_test_reconstructed_2.shape}\n",
    "Variance test: {variance_test_2}\n",
    "Reconstruction loss test: {reconstruction_loss_test_2}\n",
    "\"\"\"\n",
    "\n",
    "print(report)\n"
   ]
  },
  {
   "cell_type": "markdown",
   "metadata": {},
   "source": [
    "### Q.2.1.5 Project to 3 dimension"
   ]
  },
  {
   "cell_type": "code",
   "execution_count": 28,
   "metadata": {},
   "outputs": [
    {
     "name": "stdout",
     "output_type": "stream",
     "text": [
      "\n",
      "Q2.1.5 Project onto 3-dimensional subspace and reconstruct:\n",
      "\n",
      "Projection matrix W: \n",
      "[[ 0.3612084  -0.67668874 -0.5437191 ]\n",
      " [-0.09667266 -0.71059308  0.61616041]\n",
      " [ 0.86000139  0.16246182  0.06924822]\n",
      " [ 0.34724702  0.10371103  0.56561522]]\n",
      "\n",
      "Shape of X train mapped: (105, 3), Shape of X train reconstruct: (105, 4)\n",
      "Variance train: 4.655401260550289\n",
      "Reconstruction loss train: 0.018922548973519974\n",
      "\n",
      "Shape of X test mapped: (45, 3), Shape of X test reconstruct: (45, 4)\n",
      "Variance test: 4.1541473257389425\n",
      "Reconstruction loss test: 0.03587183464503327\n",
      "\n"
     ]
    }
   ],
   "source": [
    "# Step 1: Derive the projection matrix W (using the eigenvectors corresponding to the three largest eigenvalues)\n",
    "K= 3\n",
    "W = eigenvectors_sorted[:, :K]  # Shape: (4, 3)\n",
    "U = W\n",
    "\n",
    "# Step 2: Project the centered data onto the 3-dimensional subspace\n",
    "X_train_pca_3 = X_train_centered @ W  # Shape: (105, 3)\n",
    "X_test_pca_3 = X_test_centered @ W    # Shape: (45, 3)\n",
    "\n",
    "# Step 3: Reconstruct the data from the projected subspace\n",
    "X_train_reconstructed_3 = (X_train_pca_3 @ W.T) + mu  # Shape: (105, 4)\n",
    "X_test_reconstructed_3 = (X_test_pca_3 @ W.T) + mu    # Shape: (45, 4)\n",
    "\n",
    "# Step 4: Center the reconstructed data\n",
    "mu_train_3 = np.mean(X_train_reconstructed_3, axis=0)\n",
    "mu_test_3 = np.mean(X_test_reconstructed_3,axis=0)\n",
    "\n",
    "# Step 5: Calculate the variance of the original data\n",
    "variance_train_3 = np.mean(np.sum((X_train_reconstructed_3 - mu_train_3) ** 2, axis=1))\n",
    "variance_test_3 = np.mean(np.sum((X_test_reconstructed_3 - mu_test_3) ** 2, axis=1))\n",
    "\n",
    "# Step 6: Calculate the reconstruction error\n",
    "reconstruction_loss_train_3 = np.mean(np.sum((X_train - X_train_reconstructed_3) ** 2, axis=1))\n",
    "reconstruction_loss_test_3 = np.mean(np.sum((X_test - X_test_reconstructed_3) ** 2, axis=1))\n",
    "\n",
    "# Step 7: Report the results\n",
    "report = f\"\"\"\n",
    "Q2.1.5 Project onto 3-dimensional subspace and reconstruct:\n",
    "\n",
    "Projection matrix W: \n",
    "{U}\n",
    "\n",
    "Shape of X train mapped: {X_train_pca_3.shape}, Shape of X train reconstruct: {X_train_reconstructed_3.shape}\n",
    "Variance train: {variance_train_3}\n",
    "Reconstruction loss train: {reconstruction_loss_train_3}\n",
    "\n",
    "Shape of X test mapped: {X_test_pca_3.shape}, Shape of X test reconstruct: {X_test_reconstructed_3.shape}\n",
    "Variance test: {variance_test_3}\n",
    "Reconstruction loss test: {reconstruction_loss_test_3}\n",
    "\"\"\"\n",
    "\n",
    "print(report)\n"
   ]
  },
  {
   "cell_type": "code",
   "execution_count": 30,
   "metadata": {},
   "outputs": [
    {
     "data": {
      "text/plain": [
       "4.6554012605502875"
      ]
     },
     "execution_count": 30,
     "metadata": {},
     "output_type": "execute_result"
    }
   ],
   "source": [
    "variance_train_3 = eigenvalues_sorted[:K].sum()\n",
    "variance_train_3"
   ]
  },
  {
   "cell_type": "markdown",
   "metadata": {},
   "source": [
    "As we can observe, the result of training data variance calculated by eigenvalues_sorted[:K].sum() and formula $$ \\frac{1}{N} \\sum_{n=1}^N \\|\\mathbf{x}^{(n)} - \\tilde{\\mu}|^2 $$ is eactly the same. Which indicates that: Variance is explained by the first K principal components."
   ]
  },
  {
   "cell_type": "markdown",
   "metadata": {},
   "source": [
    "### Q2.1.6 Plotting to visualize the reduction result"
   ]
  },
  {
   "cell_type": "code",
   "execution_count": 31,
   "metadata": {},
   "outputs": [
    {
     "data": {
      "image/png": "[encoded data removed]",
      "text/plain": [
       "<Figure size 800x600 with 1 Axes>"
      ]
     },
     "metadata": {},
     "output_type": "display_data"
    },
    {
     "data": {
      "image/png": "[encoded data removed]",
      "text/plain": [
       "<Figure size 800x600 with 1 Axes>"
      ]
     },
     "metadata": {},
     "output_type": "display_data"
    }
   ],
   "source": [
    "import matplotlib.pyplot as plt\n",
    "\n",
    "# Initialize lists to store results\n",
    "dimensions = [1, 2, 3, 4]\n",
    "variance_train_list = []\n",
    "variance_test_list = []\n",
    "reconstruction_loss_train_list = []\n",
    "reconstruction_loss_test_list = []\n",
    "variance_captured_list = []\n",
    "\n",
    "# Total variance (sum of all eigenvalues)\n",
    "total_variance = np.sum(eigenvalues_sorted)\n",
    "\n",
    "for d in dimensions:\n",
    "    # Step 1: Derive the projection matrix W using the top 'd' eigenvectors\n",
    "    W = eigenvectors_sorted[:, :d]  # Shape: (4, d)\n",
    "    \n",
    "    # Step 2: Center the training and test data using the mean vector mu\n",
    "    X_train_centered = X_train - mu  # Shape: (105, 4)\n",
    "    X_test_centered = X_test - mu    # Shape: (45, 4)\n",
    "    \n",
    "    # Step 3: Project the centered data onto the 'd'-dimensional subspace\n",
    "    X_train_pca = X_train_centered @ W  # Shape: (105, d)\n",
    "    X_test_pca = X_test_centered @ W    # Shape: (45, d)\n",
    "    \n",
    "    # Step 4: Reconstruct the data from the projected subspace\n",
    "    X_train_reconstructed = (X_train_pca @ W.T) + mu  # Shape: (105, 4)\n",
    "    X_test_reconstructed = (X_test_pca @ W.T) + mu    # Shape: (45, 4)\n",
    "\n",
    "    # Step 5: Get the centered reconstructed data\n",
    "    mu_train = np.mean(X_train_reconstructed, axis=0)\n",
    "    mu_test = np.mean(X_test_reconstructed,axis=0)\n",
    "\n",
    "    # Step 6: Calculate the variance of the original data\n",
    "    variance_train = np.mean(np.sum((X_train_reconstructed - mu_train) ** 2, axis=1))\n",
    "    variance_test = np.mean(np.sum((X_test_reconstructed - mu_test) ** 2, axis=1))\n",
    "\n",
    "    variance_train_list.append(variance_train)\n",
    "    variance_test_list.append(variance_test)\n",
    "    \n",
    "    # Step 7: Calculate the reconstruction error\n",
    "    reconstruction_loss_train = np.mean(np.sum((X_train - X_train_reconstructed) ** 2, axis=1))\n",
    "    reconstruction_loss_test = np.mean(np.sum((X_test - X_test_reconstructed) ** 2, axis=1))\n",
    "\n",
    "    reconstruction_loss_train_list.append(reconstruction_loss_train)\n",
    "    reconstruction_loss_test_list.append(reconstruction_loss_test)\n",
    "\n",
    "# Plotting Variance Captured vs. Dimension\n",
    "plt.figure(figsize=(8, 6))\n",
    "plt.plot(dimensions, variance_train_list, marker='o',label = 'Train Variance')\n",
    "plt.plot(dimensions, variance_test_list, marker='s',label='Test Variance')\n",
    "plt.title('Variance vs. Projection Dimension')\n",
    "plt.xlabel('Projection Dimension')\n",
    "plt.ylabel('Variance')\n",
    "plt.legend()\n",
    "plt.grid(True)\n",
    "plt.show()\n",
    "\n",
    "# Plotting Reconstruction Loss vs. Dimension\n",
    "plt.figure(figsize=(8, 6))\n",
    "plt.plot(dimensions, reconstruction_loss_train_list, marker='o', label='Train Reconstruction Loss')\n",
    "plt.plot(dimensions, reconstruction_loss_test_list, marker='s', label='Test Reconstruction Loss')\n",
    "plt.title('Reconstruction Loss vs. Projection Dimension')\n",
    "plt.xlabel('Projection Dimension')\n",
    "plt.ylabel('Reconstruction Loss')\n",
    "plt.legend()\n",
    "plt.grid(True)\n",
    "plt.show()\n",
    "\n"
   ]
  },
  {
   "cell_type": "code",
   "execution_count": 32,
   "metadata": {},
   "outputs": [
    {
     "name": "stdout",
     "output_type": "stream",
     "text": [
      "\n",
      "Q2.1.6 Plotting:\n",
      "Dimension - Variance Captured:\n",
      "[Figure Above]\n",
      "\n",
      "As the projection dimension increases from 1 to 4, the variance captured by the principal components increases. At dimension 4, 100% of the variance is captured, indicating that all original data variance is retained.\n",
      "\n",
      "Dimension - Reconstruction Loss:\n",
      "[Figure Above]\n",
      "\n",
      "The reconstruction loss decreases as the projection dimension increases. With more principal components, the reconstructed data becomes closer to the original data, resulting in lower reconstruction loss. At dimension 4, the reconstruction loss is zero or near-zero, indicating perfect reconstruction.\n",
      "\n"
     ]
    }
   ],
   "source": [
    "# Generate the report\n",
    "report = f\"\"\"\n",
    "Q2.1.6 Plotting:\n",
    "Dimension - Variance Captured:\n",
    "[Figure Above]\n",
    "\n",
    "As the projection dimension increases from 1 to 4, the variance captured by the principal components increases. At dimension 4, 100% of the variance is captured, indicating that all original data variance is retained.\n",
    "\n",
    "Dimension - Reconstruction Loss:\n",
    "[Figure Above]\n",
    "\n",
    "The reconstruction loss decreases as the projection dimension increases. With more principal components, the reconstructed data becomes closer to the original data, resulting in lower reconstruction loss. At dimension 4, the reconstruction loss is zero or near-zero, indicating perfect reconstruction.\n",
    "\"\"\"\n",
    "\n",
    "print(report)"
   ]
  }
 ],
 "metadata": {
  "kernelspec": {
   "display_name": "base",
   "language": "python",
   "name": "python3"
  },
  "language_info": {
   "codemirror_mode": {
    "name": "ipython",
    "version": 3
   },
   "file_extension": ".py",
   "mimetype": "text/x-python",
   "name": "python",
   "nbconvert_exporter": "python",
   "pygments_lexer": "ipython3",
   "version": "3.12.2"
  }
 },
 "nbformat": 4,
 "nbformat_minor": 2
}
